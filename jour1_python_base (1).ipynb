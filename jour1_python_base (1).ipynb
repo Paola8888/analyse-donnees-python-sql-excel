{
  "cells": [
    {
      "cell_type": "markdown",
      "id": "7870ca9c",
      "metadata": {
        "id": "7870ca9c"
      },
      "source": [
        "# Jour 1 : Python de base\n",
        "Bienvenue Paola ! 👋\n",
        "Ce notebook contient des exercices pour apprendre les bases de Python."
      ]
    },
    {
      "cell_type": "markdown",
      "id": "70834124",
      "metadata": {
        "id": "70834124"
      },
      "source": [
        "## 🎯 Objectifs du jour :\n",
        "- Créer des variables\n",
        "- Manipuler des types de données\n",
        "- Effectuer des opérations simples"
      ]
    },
    {
      "cell_type": "code",
      "execution_count": 2,
      "id": "ceb118a9",
      "metadata": {
        "colab": {
          "base_uri": "https://localhost:8080/"
        },
        "id": "ceb118a9",
        "outputId": "e1b78ad4-ac45-4f23-bea4-2a0cb6907104"
      },
      "outputs": [
        {
          "output_type": "stream",
          "name": "stdout",
          "text": [
            "La somme est: 16\n"
          ]
        }
      ],
      "source": [
        "# Exemple\n",
        "x = 10\n",
        "y = 6\n",
        "somme = x + y\n",
        "print('La somme est:', somme)"
      ]
    },
    {
      "cell_type": "markdown",
      "id": "6969a867",
      "metadata": {
        "id": "6969a867"
      },
      "source": [
        "### 🧪 Exercice 1 : Créez deux variables avec le prix de deux produits et faites la somme"
      ]
    },
    {
      "cell_type": "code",
      "execution_count": 1,
      "id": "4253e4d0",
      "metadata": {
        "colab": {
          "base_uri": "https://localhost:8080/"
        },
        "id": "4253e4d0",
        "outputId": "1fa44f07-dac8-4966-9de8-4d934b3cf29e"
      },
      "outputs": [
        {
          "output_type": "stream",
          "name": "stdout",
          "text": [
            "La somme est: 51.49\n"
          ]
        }
      ],
      "source": [
        "prix_produit1 = 15.99\n",
        "prix_produit2 = 35.50\n",
        "\n",
        "x = 15.99\n",
        "y = 35.50\n",
        "\n",
        "somme = x + y\n",
        "print('La somme est:', somme)\n",
        "\n",
        "# Votre code ici"
      ]
    },
    {
      "cell_type": "markdown",
      "id": "22bb1faa",
      "metadata": {
        "id": "22bb1faa"
      },
      "source": [
        "### 🧪 Exercice 2 : Calculez combien de produits à 12,25 € vous pouvez acheter avec un budget de 100 €"
      ]
    },
    {
      "cell_type": "code",
      "execution_count": 10,
      "id": "acfe6e6d",
      "metadata": {
        "colab": {
          "base_uri": "https://localhost:8080/"
        },
        "id": "acfe6e6d",
        "outputId": "48652c55-08b6-4829-c3b5-76ba877b9ca3"
      },
      "outputs": [
        {
          "output_type": "stream",
          "name": "stdout",
          "text": [
            "Avec 100 tu peux acheter 8.0 produits\n"
          ]
        }
      ],
      "source": [
        "budget = 100\n",
        "prix_unitaire = 12.25\n",
        "\n",
        "total_products = budget/prix_unitaire\n",
        "print('Avec',budget,'tu peux acheter',round(total_products,0),'produits')\n",
        "\n",
        "# Votre code ici"
      ]
    },
    {
      "cell_type": "markdown",
      "id": "a610bf1c",
      "metadata": {
        "id": "a610bf1c"
      },
      "source": [
        "### 📁 Bonus : Charger un fichier de données produit"
      ]
    },
    {
      "cell_type": "code",
      "execution_count": 14,
      "id": "71897af5",
      "metadata": {
        "colab": {
          "base_uri": "https://localhost:8080/"
        },
        "id": "71897af5",
        "outputId": "9e85a953-927b-4b9c-d3b1-8fd2adc6ef38"
      },
      "outputs": [
        {
          "output_type": "stream",
          "name": "stdout",
          "text": [
            "      Produit   Prix  En_stock\n",
            "0     T-shirt  15.99       120\n",
            "1    Pantalon  35.50        85\n",
            "2  Chaussures  60.00        60\n",
            "3   Casquette  12.25       200\n",
            "4       Veste  45.75        40\n"
          ]
        }
      ],
      "source": [
        "import pandas as pd\n",
        "produits = pd.read_csv('/content/sample_data/produits_donnees.csv')\n",
        "print(produits)"
      ]
    },
    {
      "cell_type": "code",
      "source": [
        "import pandas as pd\n",
        "produits = pd.read_csv('/content/produits_donnees.csv')\n",
        "print(produits[produits[\"En_stock\"] < 100])"
      ],
      "metadata": {
        "colab": {
          "base_uri": "https://localhost:8080/"
        },
        "id": "CQwBgP-Dnqq6",
        "outputId": "aff79e17-a660-4441-ddf3-5b7589a95e2b"
      },
      "id": "CQwBgP-Dnqq6",
      "execution_count": 3,
      "outputs": [
        {
          "output_type": "stream",
          "name": "stdout",
          "text": [
            "      Produit   Prix  En_stock\n",
            "1    Pantalon  35.50        85\n",
            "2  Chaussures  60.00        60\n",
            "4       Veste  45.75        40\n"
          ]
        }
      ]
    },
    {
      "cell_type": "markdown",
      "source": [
        "📌 ¿Cuándo usar una u otra?\n",
        "Situación\tComillas sugeridas\tEjemplo\n",
        "Texto sin comillas internas\t' o \" cualquiera\t'Bonjour' o \"Bonjour\"\n",
        "Texto que contiene comillas simples\tUsa \"\t\"C'est une belle journée\"\n",
        "Texto que contiene comillas dobles\tUsa '\t'Elle a dit \"Bonjour\"'\n",
        "\n",
        "✅ Recomendación profesional:\n",
        "Muchos equipos usan comillas simples ' como estilo por defecto (más limpio),\n",
        "excepto cuando necesitas evitar errores por comillas internas.\n",
        "\n",
        "⚙️ En proyectos grandes, se define esto con herramientas como Black o Pylint para que todo el equipo use el mismo estilo.\n",
        "\n"
      ],
      "metadata": {
        "id": "CfSviWyX1vii"
      },
      "id": "CfSviWyX1vii"
    },
    {
      "cell_type": "code",
      "source": [
        "import pandas as pd\n",
        "produits = pd.read_csv('/content/produits_donnees.csv')\n",
        "produits[\"Prix_TCC\"] = round(produits['Prix']*1.21,2)\n",
        "print(produits)"
      ],
      "metadata": {
        "colab": {
          "base_uri": "https://localhost:8080/"
        },
        "id": "QG7YG4miqt-r",
        "outputId": "a950be2b-52f7-4f7c-8087-92867c5fc7ac"
      },
      "id": "QG7YG4miqt-r",
      "execution_count": 2,
      "outputs": [
        {
          "output_type": "stream",
          "name": "stdout",
          "text": [
            "      Produit   Prix  En_stock  Prix_TCC\n",
            "0     T-shirt  15.99       120     19.35\n",
            "1    Pantalon  35.50        85     42.96\n",
            "2  Chaussures  60.00        60     72.60\n",
            "3   Casquette  12.25       200     14.82\n",
            "4       Veste  45.75        40     55.36\n"
          ]
        }
      ]
    },
    {
      "cell_type": "markdown",
      "source": [
        "📌 Notas rápidas:\n",
        "Función\tQué hace\n",
        "\n",
        "round(x, n)\tRedondea x a n decimales\n",
        "\n",
        "round(x)\tRedondea al entero más cercano\n",
        "\n",
        "math.floor(x)\tRedondea hacia abajo\n",
        "\n",
        "math.ceil(x)\tRedondea hacia arriba"
      ],
      "metadata": {
        "id": "HzpabXtV19-2"
      },
      "id": "HzpabXtV19-2"
    }
  ],
  "metadata": {
    "colab": {
      "provenance": [],
      "history_visible": true
    },
    "language_info": {
      "name": "python"
    },
    "kernelspec": {
      "name": "python3",
      "display_name": "Python 3"
    }
  },
  "nbformat": 4,
  "nbformat_minor": 5
}