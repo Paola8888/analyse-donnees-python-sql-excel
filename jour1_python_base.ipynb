{
 "cells": [
  {
   "cell_type": "markdown",
   "id": "7870ca9c",
   "metadata": {},
   "source": [
    "# Jour 1 : Python de base\n",
    "Bienvenue Paola ! 👋\n",
    "Ce notebook contient des exercices pour apprendre les bases de Python."
   ]
  },
  {
   "cell_type": "markdown",
   "id": "70834124",
   "metadata": {},
   "source": [
    "## 🎯 Objectifs du jour :\n",
    "- Créer des variables\n",
    "- Manipuler des types de données\n",
    "- Effectuer des opérations simples"
   ]
  },
  {
   "cell_type": "code",
   "execution_count": null,
   "id": "ceb118a9",
   "metadata": {},
   "outputs": [],
   "source": [
    "# Exemple\n",
    "x = 10\n",
    "y = 5\n",
    "somme = x + y\n",
    "print('La somme est:', somme)"
   ]
  },
  {
   "cell_type": "markdown",
   "id": "6969a867",
   "metadata": {},
   "source": [
    "### 🧪 Exercice 1 : Créez deux variables avec le prix de deux produits et faites la somme"
   ]
  },
  {
   "cell_type": "code",
   "execution_count": null,
   "id": "4253e4d0",
   "metadata": {},
   "outputs": [],
   "source": [
    "prix_produit1 = 15.99\n",
    "prix_produit2 = 35.50\n",
    "\n",
    "# Votre code ici"
   ]
  },
  {
   "cell_type": "markdown",
   "id": "22bb1faa",
   "metadata": {},
   "source": [
    "### 🧪 Exercice 2 : Calculez combien de produits à 12,25 € vous pouvez acheter avec un budget de 100 €"
   ]
  },
  {
   "cell_type": "code",
   "execution_count": null,
   "id": "acfe6e6d",
   "metadata": {},
   "outputs": [],
   "source": [
    "budget = 100\n",
    "prix_unitaire = 12.25\n",
    "\n",
    "# Votre code ici"
   ]
  },
  {
   "cell_type": "markdown",
   "id": "a610bf1c",
   "metadata": {},
   "source": [
    "### 📁 Bonus : Charger un fichier de données produit"
   ]
  },
  {
   "cell_type": "code",
   "execution_count": null,
   "id": "71897af5",
   "metadata": {},
   "outputs": [],
   "source": [
    "import pandas as pd\n",
    "produits = pd.read_csv('/content/produits_donnees.csv')\n",
    "print(produits)"
   ]
  }
 ],
 "metadata": {},
 "nbformat": 4,
 "nbformat_minor": 5
}