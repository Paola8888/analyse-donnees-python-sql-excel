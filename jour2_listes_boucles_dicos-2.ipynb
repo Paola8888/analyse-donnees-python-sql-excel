{
  "cells": [
    {
      "cell_type": "markdown",
      "id": "ebcaf56d",
      "metadata": {
        "id": "ebcaf56d"
      },
      "source": [
        "# Jour 2 - Listes, Boucles et Dictionnaires"
      ]
    },
    {
      "cell_type": "markdown",
      "id": "902d1127",
      "metadata": {
        "id": "902d1127"
      },
      "source": [
        "## 1. Listes"
      ]
    },
    {
      "cell_type": "code",
      "execution_count": 7,
      "id": "0fdec65d",
      "metadata": {
        "colab": {
          "base_uri": "https://localhost:8080/"
        },
        "id": "0fdec65d",
        "outputId": "6a53ca7d-4ce4-4970-bafb-c9b719e88fcb"
      },
      "outputs": [
        {
          "output_type": "stream",
          "name": "stdout",
          "text": [
            "Stylo\n",
            "Cahier\n",
            "['Stylo', 'Cahier', 'Agrafeuse']\n",
            "rojo\n",
            "['verde', 'rojo', 'azul', 'violeta']\n"
          ]
        }
      ],
      "source": [
        "produits = [\"Stylo\", \"Cahier\", \"Agrafeuse\"]\n",
        "print(produits[0])\n",
        "print(produits[-2])\n",
        "print (produits)\n",
        "\n",
        "colores = ['verde', 'rojo', 'azul','violeta']\n",
        "print(colores[1])\n",
        "print(colores)"
      ]
    },
    {
      "cell_type": "markdown",
      "id": "5ed99e00",
      "metadata": {
        "id": "5ed99e00"
      },
      "source": [
        "## 2. Boucles (for)"
      ]
    },
    {
      "cell_type": "code",
      "execution_count": 9,
      "id": "80e42d28",
      "metadata": {
        "colab": {
          "base_uri": "https://localhost:8080/"
        },
        "id": "80e42d28",
        "outputId": "d34c02b8-173a-490e-ff3e-7f280fcf0b54"
      },
      "outputs": [
        {
          "output_type": "stream",
          "name": "stdout",
          "text": [
            "Produit: Stylo\n",
            "Produit: Cahier\n",
            "Produit: Agrafeuse\n",
            "colores: verde\n",
            "colores: rojo\n",
            "colores: azul\n",
            "colores: violeta\n"
          ]
        }
      ],
      "source": [
        "for i in produits:\n",
        "    print(\"Produit:\", i)\n",
        "\n",
        "for x in colores:\n",
        "  print('colores:',x)"
      ]
    },
    {
      "cell_type": "markdown",
      "id": "fdb3b488",
      "metadata": {
        "id": "fdb3b488"
      },
      "source": [
        "## 3. Dictionnaires"
      ]
    },
    {
      "cell_type": "code",
      "execution_count": 3,
      "id": "3851f931",
      "metadata": {
        "colab": {
          "base_uri": "https://localhost:8080/"
        },
        "id": "3851f931",
        "outputId": "42765734-e4e9-4d77-a245-a9770fbeb616"
      },
      "outputs": [
        {
          "output_type": "stream",
          "name": "stdout",
          "text": [
            "Stylo\n",
            "375.0\n",
            "verde\n"
          ]
        }
      ],
      "source": [
        "produit = {\"nom\": \"Stylo\", \"prix\": 2.5, \"stock\": 150}\n",
        "print(produit[\"nom\"])\n",
        "print(produit[\"prix\"] * produit[\"stock\"])\n",
        "\n",
        "playeras = {'color':'verde', 'diseno':'flores', 'precio':2.50, 'stock':500 }\n",
        "print(playeras['color'])"
      ]
    },
    {
      "cell_type": "markdown",
      "id": "a31fc0fe",
      "metadata": {
        "id": "a31fc0fe"
      },
      "source": [
        "## 4. Lire un CSV et utiliser les structures"
      ]
    },
    {
      "cell_type": "code",
      "execution_count": 5,
      "id": "a682442c",
      "metadata": {
        "colab": {
          "base_uri": "https://localhost:8080/"
        },
        "id": "a682442c",
        "outputId": "2a53765a-4c02-4a36-a387-31b479c45b12"
      },
      "outputs": [
        {
          "output_type": "stream",
          "name": "stdout",
          "text": [
            "     Produit  Prix  Stock\n",
            "0      Stylo   2.5    150\n",
            "1     Cahier   3.0     80\n",
            "2  Agrafeuse  12.0     10\n",
            "3     Crayon   1.2      5\n",
            "4   Classeur   4.5     40\n"
          ]
        }
      ],
      "source": [
        "import pandas as pd\n",
        "inventaire = pd.read_csv(\"inventaire_donnees.csv\")\n",
        "print(inventaire)"
      ]
    },
    {
      "cell_type": "code",
      "execution_count": 6,
      "id": "11c4584e",
      "metadata": {
        "colab": {
          "base_uri": "https://localhost:8080/"
        },
        "id": "11c4584e",
        "outputId": "f649616a-645d-4d25-e610-3e6f53d81497"
      },
      "outputs": [
        {
          "output_type": "stream",
          "name": "stdout",
          "text": [
            "     Produit  Prix  Stock  Valeur_totale\n",
            "0      Stylo   2.5    150          375.0\n",
            "1     Cahier   3.0     80          240.0\n",
            "2  Agrafeuse  12.0     10          120.0\n",
            "3     Crayon   1.2      5            6.0\n",
            "4   Classeur   4.5     40          180.0\n"
          ]
        }
      ],
      "source": [
        "inventaire[\"Valeur_totale\"] = inventaire[\"Prix\"] * inventaire[\"Stock\"]\n",
        "print(inventaire)"
      ]
    },
    {
      "cell_type": "code",
      "execution_count": 7,
      "id": "ed13929c",
      "metadata": {
        "colab": {
          "base_uri": "https://localhost:8080/"
        },
        "id": "ed13929c",
        "outputId": "b12374af-9a24-4435-ca26-0414307a6960"
      },
      "outputs": [
        {
          "output_type": "stream",
          "name": "stdout",
          "text": [
            "     Produit  Prix  Stock  Valeur_totale\n",
            "2  Agrafeuse  12.0     10          120.0\n",
            "3     Crayon   1.2      5            6.0\n"
          ]
        }
      ],
      "source": [
        "stock_faible = inventaire[inventaire[\"Stock\"] < 20]\n",
        "print(stock_faible)"
      ]
    },
    {
      "cell_type": "code",
      "execution_count": 8,
      "id": "eb205b98",
      "metadata": {
        "colab": {
          "base_uri": "https://localhost:8080/"
        },
        "id": "eb205b98",
        "outputId": "04756c4a-faf2-4382-f460-abd0789bbf5a"
      },
      "outputs": [
        {
          "output_type": "stream",
          "name": "stdout",
          "text": [
            "Valeur totale faible stock: 126.0\n"
          ]
        }
      ],
      "source": [
        "print(\"Valeur totale faible stock:\", stock_faible[\"Valeur_totale\"].sum())"
      ]
    },
    {
      "cell_type": "markdown",
      "source": [
        "# 4.1 Exercises avec CSV"
      ],
      "metadata": {
        "id": "i32HxBKDtxOR"
      },
      "id": "i32HxBKDtxOR"
    },
    {
      "cell_type": "code",
      "execution_count": null,
      "metadata": {
        "colab": {
          "base_uri": "https://localhost:8080/"
        },
        "id": "_Sp2aznTjX_4",
        "outputId": "de266588-0e90-4e0e-9fa9-cea8027763cc"
      },
      "outputs": [
        {
          "output_type": "stream",
          "name": "stdout",
          "text": [
            "         Nom  Prix  Stock\n",
            "0      Stylo   1.2     20\n",
            "1     Cahier   2.5     15\n",
            "2  Agrafeuse   5.0      8\n"
          ]
        }
      ],
      "source": [
        "import math\n",
        "import pandas as pd\n",
        "inventaire =pd.read_csv(\"/content/inventaire.csv\")\n",
        "print(inventaire)"
      ],
      "id": "_Sp2aznTjX_4"
    },
    {
      "cell_type": "code",
      "source": [
        "inventaire[\"valeur_totale\"]= inventaire[\"Prix\"]*inventaire[\"Stock\"]\n",
        "print(inventaire)"
      ],
      "metadata": {
        "colab": {
          "base_uri": "https://localhost:8080/"
        },
        "id": "-C2u-q5Dj4QQ",
        "outputId": "9ad525b0-85f6-4851-fcfd-d4f1719ebbb9"
      },
      "execution_count": null,
      "outputs": [
        {
          "output_type": "stream",
          "name": "stdout",
          "text": [
            "         Nom  Prix  Stock  valeur_totale\n",
            "0      Stylo   1.2     20           24.0\n",
            "1     Cahier   2.5     15           37.5\n",
            "2  Agrafeuse   5.0      8           40.0\n"
          ]
        }
      ],
      "id": "-C2u-q5Dj4QQ"
    },
    {
      "cell_type": "code",
      "source": [
        "inventaire[\"Prix_TCC\"] = round(inventaire[\"Prix\"]* 1.20)\n",
        "print(inventaire)"
      ],
      "metadata": {
        "colab": {
          "base_uri": "https://localhost:8080/"
        },
        "id": "HD7_OvLpozQY",
        "outputId": "2bb30c99-be65-4902-8b8b-4cd341366746"
      },
      "execution_count": null,
      "outputs": [
        {
          "output_type": "stream",
          "name": "stdout",
          "text": [
            "         Nom  Prix  Stock  valeur_totale  Prix_TCC\n",
            "0      Stylo   1.2     20           24.0       1.0\n",
            "1     Cahier   2.5     15           37.5       3.0\n",
            "2  Agrafeuse   5.0      8           40.0       6.0\n"
          ]
        }
      ],
      "id": "HD7_OvLpozQY"
    },
    {
      "cell_type": "code",
      "source": [
        "inventaire.to_csv(\"inventaire_avec_prix_tcc.csv\", index=False)"
      ],
      "metadata": {
        "id": "_YqxMIWKpqtj"
      },
      "execution_count": null,
      "outputs": [],
      "id": "_YqxMIWKpqtj"
    },
    {
      "cell_type": "code",
      "source": [
        "print(inventaire.head())"
      ],
      "metadata": {
        "colab": {
          "base_uri": "https://localhost:8080/"
        },
        "id": "dHco2JTmqF1P",
        "outputId": "3bab9fc8-9cbe-4927-dece-10008d257727"
      },
      "execution_count": null,
      "outputs": [
        {
          "output_type": "stream",
          "name": "stdout",
          "text": [
            "         Nom  Prix  Stock  valeur_totale  Prix_TCC\n",
            "0      Stylo   1.2     20           24.0       1.0\n",
            "1     Cahier   2.5     15           37.5       3.0\n",
            "2  Agrafeuse   5.0      8           40.0       6.0\n"
          ]
        }
      ],
      "id": "dHco2JTmqF1P"
    },
    {
      "cell_type": "code",
      "source": [
        "Total_stock=inventaire[\"Stock\"].sum()\n",
        "print(\"Total:\",Total_stock)"
      ],
      "metadata": {
        "colab": {
          "base_uri": "https://localhost:8080/"
        },
        "id": "sZohxe3Sq0gu",
        "outputId": "e94731e2-54cd-4612-cc48-bfecc29c2dab"
      },
      "execution_count": null,
      "outputs": [
        {
          "output_type": "stream",
          "name": "stdout",
          "text": [
            "Total: 43\n"
          ]
        }
      ],
      "id": "sZohxe3Sq0gu"
    },
    {
      "cell_type": "code",
      "source": [
        "\n",
        "print(\"Total_stock:\", inventaire[\"Stock\"].sum())"
      ],
      "metadata": {
        "colab": {
          "base_uri": "https://localhost:8080/"
        },
        "id": "EBdjprD1rNyP",
        "outputId": "ab039d98-fa82-477f-ad63-8ae45e24e2d4"
      },
      "execution_count": null,
      "outputs": [
        {
          "output_type": "stream",
          "name": "stdout",
          "text": [
            "Total_stock: 43\n"
          ]
        }
      ],
      "id": "EBdjprD1rNyP"
    },
    {
      "cell_type": "code",
      "source": [
        "inventaire=inventaire.sort_values(by=\"valeur_totale\",ascending=False)\n",
        "print(inventaire)"
      ],
      "metadata": {
        "colab": {
          "base_uri": "https://localhost:8080/"
        },
        "id": "GEkNKu5HrY5u",
        "outputId": "a7974c03-d998-4974-9f8a-34c782de95bf"
      },
      "execution_count": null,
      "outputs": [
        {
          "output_type": "stream",
          "name": "stdout",
          "text": [
            "         Nom  Prix  Stock  valeur_totale  Prix_TCC\n",
            "2  Agrafeuse   5.0      8           40.0       6.0\n",
            "1     Cahier   2.5     15           37.5       3.0\n",
            "0      Stylo   1.2     20           24.0       1.0\n"
          ]
        }
      ],
      "id": "GEkNKu5HrY5u"
    },
    {
      "cell_type": "markdown",
      "source": [
        "## 5. Matrices\n",
        "👉 2 (fila 0, columna 1)\n",
        "Esto sí funciona como coordenadas, y se usa mucho en Python cuando necesitas trabajar con datos en forma de tabla sin usar librerías externas."
      ],
      "metadata": {
        "id": "rehLVhsn3XaM"
      },
      "id": "rehLVhsn3XaM"
    },
    {
      "cell_type": "code",
      "source": [
        "matriz = [\n",
        "    [1, 2, 3],\n",
        "    [4, 5, 6],\n",
        "    [7, 8, 9]\n",
        "]\n",
        "\n",
        "print(matriz[0][1])\n",
        "\n",
        "for fila in matriz:\n",
        "    print(fila)\n",
        "\n",
        "for fila in matriz:\n",
        "    for elemento in fila:\n",
        "        print(elemento)"
      ],
      "metadata": {
        "colab": {
          "base_uri": "https://localhost:8080/"
        },
        "id": "I0wKh7hD3Z_I",
        "outputId": "018f2666-0c36-492e-c324-1091c254907f"
      },
      "id": "I0wKh7hD3Z_I",
      "execution_count": 10,
      "outputs": [
        {
          "output_type": "stream",
          "name": "stdout",
          "text": [
            "2\n",
            "[1, 2, 3]\n",
            "[4, 5, 6]\n",
            "[7, 8, 9]\n",
            "1\n",
            "2\n",
            "3\n",
            "4\n",
            "5\n",
            "6\n",
            "7\n",
            "8\n",
            "9\n"
          ]
        }
      ]
    },
    {
      "cell_type": "code",
      "source": [
        "produits = [\n",
        "    {\"nom\": \"Stylo\", \"prix\": 1.2},\n",
        "    {\"nom\": \"Cahier\", \"prix\": 2.5},\n",
        "    {\"nom\": \"Agrafeuse\", \"prix\": 5.0}\n",
        "]\n",
        "\n",
        "print(produits[1][\"prix\"])"
      ],
      "metadata": {
        "colab": {
          "base_uri": "https://localhost:8080/"
        },
        "id": "FgYjq7Mz4Hw7",
        "outputId": "2cf1faf0-7d9a-41f7-d4b2-db5bb1033012"
      },
      "id": "FgYjq7Mz4Hw7",
      "execution_count": 12,
      "outputs": [
        {
          "output_type": "stream",
          "name": "stdout",
          "text": [
            "2.5\n"
          ]
        }
      ]
    },
    {
      "cell_type": "markdown",
      "source": [
        "Aquí tienes acceso por índice de fila (como en una matriz) y luego por clave de columna (como en un diccionario)."
      ],
      "metadata": {
        "id": "B_uFIDpd4JTM"
      },
      "id": "B_uFIDpd4JTM"
    }
  ],
  "metadata": {
    "colab": {
      "provenance": []
    },
    "language_info": {
      "name": "python"
    },
    "kernelspec": {
      "name": "python3",
      "display_name": "Python 3"
    }
  },
  "nbformat": 4,
  "nbformat_minor": 5
}