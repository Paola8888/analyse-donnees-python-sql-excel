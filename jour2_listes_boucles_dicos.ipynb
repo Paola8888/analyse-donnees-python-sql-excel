# Jour 2 - Listes, Boucles et Dictionnaires

## 1. Listes
produits = ["Stylo", "Cahier", "Agrafeuse"]
print(produits[0])
print(produits[-1])

## 2. Boucles (for)
for produit in produits:
    print("Produit:", produit)

## 3. Dictionnaires
produit = {"nom": "Stylo", "prix": 2.5, "stock": 150}
print(produit["nom"])
print(produit["prix"] * produit["stock"])

## 4. Lire un CSV et utiliser les structures
import pandas as pd
inventaire = pd.read_csv("inventaire_donnees.csv")
print(inventaire)

# Ajouter une colonne de valeur totale
inventaire["Valeur_totale"] = inventaire["Prix"] * inventaire["Stock"]

# Filtrer les produits avec stock faible
stock_faible = inventaire[inventaire["Stock"] < 20]
print(stock_faible)

# Calculer la valeur totale de produits à stock faible
print("Valeur totale faible stock:", stock_faible["Valeur_totale"].sum())