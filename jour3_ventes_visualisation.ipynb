{
 "cells": [
  {
   "cell_type": "markdown",
   "id": "8406432d",
   "metadata": {},
   "source": [
    "# 📘 Jour 3 : Visualisation et Fonctions en Python"
   ]
  },
  {
   "cell_type": "markdown",
   "id": "e0776ac2",
   "metadata": {},
   "source": [
    "## Objectifs du jour\n",
    "- Visualiser des données avec `matplotlib`\n",
    "- Créer des fonctions personnalisées\n",
    "- Travailler avec des données de ventes"
   ]
  },
  {
   "cell_type": "code",
   "execution_count": null,
   "id": "b7505380",
   "metadata": {},
   "outputs": [],
   "source": [
    "# 📥 Étape 1 : Importer les bibliothèques\n",
    "import pandas as pd\n",
    "import matplotlib.pyplot as plt\n",
    "\n",
    "# Lire le fichier CSV\n",
    "df = pd.read_csv(\"donnees_ventes.csv\")\n",
    "df"
   ]
  },
  {
   "cell_type": "code",
   "execution_count": null,
   "id": "a69eadd0",
   "metadata": {},
   "outputs": [],
   "source": [
    "# 📊 Étape 2 : Ajouter une colonne de ventes totales\n",
    "df[\"Ventes_Totales\"] = df[\"Ventes_Janvier\"] + df[\"Ventes_Fevrier\"]\n",
    "df"
   ]
  },
  {
   "cell_type": "code",
   "execution_count": null,
   "id": "5f0af951",
   "metadata": {},
   "outputs": [],
   "source": [
    "# 📈 Étape 3 : Graphique en barres des ventes totales\n",
    "plt.figure(figsize=(8,5))\n",
    "plt.bar(df[\"Produit\"], df[\"Ventes_Totales\"], color='skyblue')\n",
    "plt.title(\"Ventes totales par produit\")\n",
    "plt.xlabel(\"Produit\")\n",
    "plt.ylabel(\"Ventes\")\n",
    "plt.show()"
   ]
  },
  {
   "cell_type": "code",
   "execution_count": null,
   "id": "b792efdc",
   "metadata": {},
   "outputs": [],
   "source": [
    "# 🧮 Étape 4 : Créer une fonction pour calculer le revenu total\n",
    "def calculer_revenu_total(ventes, prix):\n",
    "    return ventes * prix\n",
    "\n",
    "# Appliquer la fonction\n",
    "df[\"Revenu_Total\"] = calculer_revenu_total(df[\"Ventes_Totales\"], df[\"Prix_Unitaire\"])\n",
    "df"
   ]
  },
  {
   "cell_type": "code",
   "execution_count": null,
   "id": "c38ae2f6",
   "metadata": {},
   "outputs": [],
   "source": [
    "# 📊 Étape 5 : Graphique du revenu total\n",
    "plt.figure(figsize=(8,5))\n",
    "plt.bar(df[\"Produit\"], df[\"Revenu_Total\"], color='lightgreen')\n",
    "plt.title(\"Revenu total par produit\")\n",
    "plt.xlabel(\"Produit\")\n",
    "plt.ylabel(\"Revenu ($)\")\n",
    "plt.show()"
   ]
  },
  {
   "cell_type": "markdown",
   "id": "87f9fee9",
   "metadata": {},
   "source": [
    "🎯 **Défi final :** Trier les produits par revenu décroissant et afficher les 3 premiers."
   ]
  },
  {
   "cell_type": "code",
   "execution_count": null,
   "id": "e3b861e7",
   "metadata": {},
   "outputs": [],
   "source": [
    "# 🔽 Étape 6 : Trier et afficher les top 3\n",
    "df_trie = df.sort_values(by=\"Revenu_Total\", ascending=False)\n",
    "df_trie.head(3)"
   ]
  }
 ],
 "metadata": {},
 "nbformat": 4,
 "nbformat_minor": 5
}
